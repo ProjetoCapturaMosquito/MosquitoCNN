{
 "cells": [
  {
   "cell_type": "code",
   "execution_count": 1,
   "metadata": {},
   "outputs": [
    {
     "name": "stderr",
     "output_type": "stream",
     "text": [
      "Using Theano backend.\n"
     ]
    }
   ],
   "source": [
    "import matplotlib.pyplot as plt\n",
    "from keras.datasets import mnist\n",
    "from keras.utils import to_categorical\n",
    "from keras import models, layers, optimizers\n",
    "from os import environ\n",
    "\n",
    "environ['TF_CPP_MIN_LOG_LEVEL'] = '3'"
   ]
  },
  {
   "cell_type": "code",
   "execution_count": 2,
   "metadata": {},
   "outputs": [],
   "source": [
    "(train_images, train_labels), (test_images, test_labels) = mnist.load_data()"
   ]
  },
  {
   "cell_type": "code",
   "execution_count": 3,
   "metadata": {},
   "outputs": [
    {
     "name": "stdout",
     "output_type": "stream",
     "text": [
      "Train images shape: (60000, 28, 28)\n",
      "Train labels shape: (60000,) \n",
      "\n",
      "Test images shape: (10000, 28, 28)\n",
      "Test labels shape: (10000,) \n",
      "\n"
     ]
    }
   ],
   "source": [
    "print('Train images shape:', train_images.shape)\n",
    "print('Train labels shape:', train_labels.shape, '\\n')\n",
    "print('Test images shape:', test_images.shape)\n",
    "print('Test labels shape:', test_labels.shape, '\\n')"
   ]
  },
  {
   "cell_type": "code",
   "execution_count": 4,
   "metadata": {},
   "outputs": [],
   "source": [
    "\n",
    "# for x in range(0, 1):\n",
    "  #  plt.imshow(train_images[x], cmap='Greys')\n",
    "   # plt.show()\n",
    "   # print('Train image labels:', train_labels[x], '\\n')\n"
   ]
  },
  {
   "cell_type": "markdown",
   "metadata": {},
   "source": [
    "Training, Validation and Test dataset"
   ]
  },
  {
   "cell_type": "code",
   "execution_count": 5,
   "metadata": {},
   "outputs": [],
   "source": [
    "valid_images = train_images[50000:60000]\n",
    "valid_labels = train_labels[50000:60000]\n",
    "train_images = train_images[0:50000]  # test images remain untouched\n",
    "train_labels = train_labels[0:50000]"
   ]
  },
  {
   "cell_type": "markdown",
   "metadata": {},
   "source": [
    "Creating Tensors"
   ]
  },
  {
   "cell_type": "code",
   "execution_count": 6,
   "metadata": {},
   "outputs": [],
   "source": [
    "train_images = train_images.reshape((50000, 28, 28, 1))\n",
    "train_images = train_images.astype('float32') / 255  # converting to a [0, 1] scale\n",
    "valid_images = valid_images.reshape((10000, 28, 28, 1))\n",
    "valid_images = valid_images.astype('float32') / 255  # converting to a [0, 1] scale\n",
    "test_images = test_images.reshape((10000, 28, 28, 1))\n",
    "test_images = test_images.astype('float32') / 255  # converting to a [0, 1] scale"
   ]
  },
  {
   "cell_type": "code",
   "execution_count": 7,
   "metadata": {},
   "outputs": [
    {
     "name": "stdout",
     "output_type": "stream",
     "text": [
      "A label: 9\n",
      "A one-hot encode label: [ 0.  0.  0.  0.  0.  0.  0.  0.  0.  1.]\n"
     ]
    }
   ],
   "source": [
    "print('A label:', train_labels[19])\n",
    "train_labels = to_categorical(train_labels)\n",
    "valid_labels = to_categorical(valid_labels)\n",
    "test_labels = to_categorical(test_labels)\n",
    "print('A one-hot encode label:', train_labels[19])"
   ]
  },
  {
   "cell_type": "markdown",
   "metadata": {},
   "source": [
    "CNN Architeture"
   ]
  },
  {
   "cell_type": "code",
   "execution_count": 8,
   "metadata": {},
   "outputs": [],
   "source": [
    "my_model = models.Sequential()\n",
    "my_model.add(layers.Conv2D(filters=16, kernel_size=(3, 3), strides=(1, 1),\n",
    "                           use_bias=True, input_shape=(28, 28, 1)))\n",
    "my_model.add(layers.Activation('relu'))\n",
    "my_model.add(layers.Conv2D(filters=16, kernel_size=(3, 3), strides=(1, 1), use_bias=True))\n",
    "my_model.add(layers.Activation('relu'))\n",
    "\n",
    "my_model.add(layers.MaxPooling2D(pool_size=(2, 2)))\n",
    "\n",
    "my_model.add(layers.Dropout(rate=0.4))\n",
    "\n",
    "my_model.add(layers.Conv2D(filters=8, kernel_size=(3, 3), strides=(1, 1), use_bias=True))\n",
    "my_model.add(layers.Activation('relu'))\n",
    "\n",
    "my_model.add(layers.MaxPooling2D(pool_size=(2, 2)))\n",
    "\n",
    "my_model.add(layers.Flatten())\n",
    "\n",
    "my_model.add(layers.Dropout(rate=0.4))\n",
    "\n",
    "my_model.add(layers.Dense(units=10, use_bias=True))\n",
    "my_model.add(layers.Activation('relu'))\n",
    "\n",
    "my_model.add(layers.Dense(units=10, use_bias=True))\n",
    "my_model.add(layers.Activation('softmax'))"
   ]
  },
  {
   "cell_type": "markdown",
   "metadata": {},
   "source": [
    "CNN Summary (Mostra os dados da rede neural configurada)"
   ]
  },
  {
   "cell_type": "code",
   "execution_count": 9,
   "metadata": {},
   "outputs": [
    {
     "name": "stdout",
     "output_type": "stream",
     "text": [
      "_________________________________________________________________\n",
      "Layer (type)                 Output Shape              Param #   \n",
      "=================================================================\n",
      "conv2d_1 (Conv2D)            (None, 26, 26, 16)        160       \n",
      "_________________________________________________________________\n",
      "activation_1 (Activation)    (None, 26, 26, 16)        0         \n",
      "_________________________________________________________________\n",
      "conv2d_2 (Conv2D)            (None, 24, 24, 16)        2320      \n",
      "_________________________________________________________________\n",
      "activation_2 (Activation)    (None, 24, 24, 16)        0         \n",
      "_________________________________________________________________\n",
      "max_pooling2d_1 (MaxPooling2 (None, 12, 12, 16)        0         \n",
      "_________________________________________________________________\n",
      "dropout_1 (Dropout)          (None, 12, 12, 16)        0         \n",
      "_________________________________________________________________\n",
      "conv2d_3 (Conv2D)            (None, 10, 10, 8)         1160      \n",
      "_________________________________________________________________\n",
      "activation_3 (Activation)    (None, 10, 10, 8)         0         \n",
      "_________________________________________________________________\n",
      "max_pooling2d_2 (MaxPooling2 (None, 5, 5, 8)           0         \n",
      "_________________________________________________________________\n",
      "flatten_1 (Flatten)          (None, 200)               0         \n",
      "_________________________________________________________________\n",
      "dropout_2 (Dropout)          (None, 200)               0         \n",
      "_________________________________________________________________\n",
      "dense_1 (Dense)              (None, 10)                2010      \n",
      "_________________________________________________________________\n",
      "activation_4 (Activation)    (None, 10)                0         \n",
      "_________________________________________________________________\n",
      "dense_2 (Dense)              (None, 10)                110       \n",
      "_________________________________________________________________\n",
      "activation_5 (Activation)    (None, 10)                0         \n",
      "=================================================================\n",
      "Total params: 5,760\n",
      "Trainable params: 5,760\n",
      "Non-trainable params: 0\n",
      "_________________________________________________________________\n"
     ]
    }
   ],
   "source": [
    "my_model.summary()"
   ]
  },
  {
   "cell_type": "markdown",
   "metadata": {},
   "source": [
    "CNN Loss and Optimizer"
   ]
  },
  {
   "cell_type": "code",
   "execution_count": 10,
   "metadata": {},
   "outputs": [],
   "source": [
    "compile = my_model.compile(optimizers.sgd(lr=0.1, decay=0.01), loss='categorical_crossentropy',\n",
    "                           metrics=['accuracy'])"
   ]
  },
  {
   "cell_type": "markdown",
   "metadata": {},
   "source": [
    "CNN Training"
   ]
  },
  {
   "cell_type": "code",
   "execution_count": 11,
   "metadata": {},
   "outputs": [
    {
     "name": "stdout",
     "output_type": "stream",
     "text": [
      "Train on 50000 samples, validate on 10000 samples\n",
      "Epoch 1/20\n",
      "50000/50000 [==============================] - 67s 1ms/step - loss: 2.2941 - acc: 0.1273 - val_loss: 2.2785 - val_acc: 0.2051\n",
      "Epoch 2/20\n",
      "50000/50000 [==============================] - 69s 1ms/step - loss: 2.2685 - acc: 0.1631 - val_loss: 2.2373 - val_acc: 0.2370\n",
      "Epoch 3/20\n",
      "50000/50000 [==============================] - 74s 1ms/step - loss: 2.2204 - acc: 0.1879 - val_loss: 2.1397 - val_acc: 0.2926\n",
      "Epoch 4/20\n",
      "50000/50000 [==============================] - 74s 1ms/step - loss: 2.1233 - acc: 0.2348 - val_loss: 1.9637 - val_acc: 0.4250\n",
      "Epoch 5/20\n",
      "50000/50000 [==============================] - 74s 1ms/step - loss: 1.9799 - acc: 0.3146 - val_loss: 1.7436 - val_acc: 0.5418\n",
      "Epoch 6/20\n",
      "50000/50000 [==============================] - 70s 1ms/step - loss: 1.8059 - acc: 0.3932 - val_loss: 1.5173 - val_acc: 0.5787\n",
      "Epoch 7/20\n",
      "50000/50000 [==============================] - 66s 1ms/step - loss: 1.6464 - acc: 0.4449 - val_loss: 1.3302 - val_acc: 0.6126\n",
      "Epoch 8/20\n",
      "50000/50000 [==============================] - 65s 1ms/step - loss: 1.5117 - acc: 0.4878 - val_loss: 1.1983 - val_acc: 0.6451\n",
      "Epoch 9/20\n",
      "50000/50000 [==============================] - 65s 1ms/step - loss: 1.4116 - acc: 0.5189 - val_loss: 1.1007 - val_acc: 0.6800\n",
      "Epoch 10/20\n",
      "50000/50000 [==============================] - 66s 1ms/step - loss: 1.3135 - acc: 0.5506 - val_loss: 1.0222 - val_acc: 0.7071\n",
      "Epoch 11/20\n",
      "50000/50000 [==============================] - 66s 1ms/step - loss: 1.2484 - acc: 0.5728 - val_loss: 0.9641 - val_acc: 0.7295\n",
      "Epoch 12/20\n",
      "50000/50000 [==============================] - 66s 1ms/step - loss: 1.1868 - acc: 0.5938 - val_loss: 0.9072 - val_acc: 0.7427\n",
      "Epoch 13/20\n",
      "50000/50000 [==============================] - 65s 1ms/step - loss: 1.1426 - acc: 0.6103 - val_loss: 0.8570 - val_acc: 0.7581\n",
      "Epoch 14/20\n",
      "50000/50000 [==============================] - 66s 1ms/step - loss: 1.0911 - acc: 0.6285 - val_loss: 0.8137 - val_acc: 0.7661\n",
      "Epoch 15/20\n",
      "50000/50000 [==============================] - 74s 1ms/step - loss: 1.0553 - acc: 0.6419 - val_loss: 0.7723 - val_acc: 0.7753\n",
      "Epoch 16/20\n",
      "50000/50000 [==============================] - 73s 1ms/step - loss: 1.0208 - acc: 0.6542 - val_loss: 0.7387 - val_acc: 0.7858\n",
      "Epoch 17/20\n",
      "50000/50000 [==============================] - 73s 1ms/step - loss: 0.9818 - acc: 0.6651 - val_loss: 0.7047 - val_acc: 0.7963\n",
      "Epoch 18/20\n",
      "50000/50000 [==============================] - 74s 1ms/step - loss: 0.9507 - acc: 0.6802 - val_loss: 0.6761 - val_acc: 0.8026\n",
      "Epoch 19/20\n",
      "50000/50000 [==============================] - 73s 1ms/step - loss: 0.9217 - acc: 0.6896 - val_loss: 0.6521 - val_acc: 0.8107\n",
      "Epoch 20/20\n",
      "50000/50000 [==============================] - 72s 1ms/step - loss: 0.8944 - acc: 0.6978 - val_loss: 0.6313 - val_acc: 0.8176\n"
     ]
    }
   ],
   "source": [
    "fit = my_model.fit(x=train_images, y=train_labels, batch_size=2500, epochs=20,\n",
    "                   validation_data=(valid_images, valid_labels))"
   ]
  },
  {
   "cell_type": "markdown",
   "metadata": {},
   "source": [
    "Save Model"
   ]
  },
  {
   "cell_type": "code",
   "execution_count": 13,
   "metadata": {},
   "outputs": [],
   "source": [
    "my_model.save(filepath=r'/home/daniel/Documents/treino', overwrite=True)"
   ]
  },
  {
   "cell_type": "code",
   "execution_count": null,
   "metadata": {},
   "outputs": [],
   "source": []
  }
 ],
 "metadata": {
  "kernelspec": {
   "display_name": "Python 3",
   "language": "python",
   "name": "python3"
  },
  "language_info": {
   "codemirror_mode": {
    "name": "ipython",
    "version": 3
   },
   "file_extension": ".py",
   "mimetype": "text/x-python",
   "name": "python",
   "nbconvert_exporter": "python",
   "pygments_lexer": "ipython3",
   "version": "3.5.4"
  }
 },
 "nbformat": 4,
 "nbformat_minor": 2
}
