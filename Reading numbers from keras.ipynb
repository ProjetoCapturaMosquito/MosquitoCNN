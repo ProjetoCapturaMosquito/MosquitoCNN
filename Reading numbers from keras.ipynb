{
 "cells": [
  {
   "cell_type": "code",
   "execution_count": 4,
   "metadata": {},
   "outputs": [
    {
     "name": "stderr",
     "output_type": "stream",
     "text": [
      "Using TensorFlow backend.\n"
     ]
    }
   ],
   "source": [
    "import matplotlib.pyplot as plt\n",
    "from keras.datasets import mnist\n",
    "from keras.utils import to_categorical\n",
    "from keras import models, layers, optimizers\n",
    "from os import environ\n",
    "\n",
    "environ['TF_CPP_MIN_LOG_LEVEL'] = '3'"
   ]
  },
  {
   "cell_type": "code",
   "execution_count": 5,
   "metadata": {},
   "outputs": [
    {
     "name": "stdout",
     "output_type": "stream",
     "text": [
      "Downloading data from https://s3.amazonaws.com/img-datasets/mnist.npz\n",
      "11493376/11490434 [==============================] - 30s 3us/step\n"
     ]
    }
   ],
   "source": [
    "(train_images, train_labels), (test_images, test_labels) = mnist.load_data()"
   ]
  },
  {
   "cell_type": "code",
   "execution_count": 6,
   "metadata": {},
   "outputs": [
    {
     "name": "stdout",
     "output_type": "stream",
     "text": [
      "Train images shape: (60000, 28, 28)\n",
      "Train labels shape: (60000,) \n",
      "\n",
      "Test images shape: (10000, 28, 28)\n",
      "Test labels shape: (10000,) \n",
      "\n"
     ]
    }
   ],
   "source": [
    "print('Train images shape:', train_images.shape)\n",
    "print('Train labels shape:', train_labels.shape, '\\n')\n",
    "print('Test images shape:', test_images.shape)\n",
    "print('Test labels shape:', test_labels.shape, '\\n')"
   ]
  },
  {
   "cell_type": "code",
   "execution_count": 7,
   "metadata": {},
   "outputs": [],
   "source": [
    "\n",
    "# for x in range(0, 1):\n",
    "  #  plt.imshow(train_images[x], cmap='Greys')\n",
    "   # plt.show()\n",
    "   # print('Train image labels:', train_labels[x], '\\n')\n"
   ]
  },
  {
   "cell_type": "markdown",
   "metadata": {},
   "source": [
    "Training, Validation and Test dataset"
   ]
  },
  {
   "cell_type": "code",
   "execution_count": 8,
   "metadata": {},
   "outputs": [],
   "source": [
    "valid_images = train_images[50000:60000]\n",
    "valid_labels = train_labels[50000:60000]\n",
    "train_images = train_images[0:50000]  # test images remain untouched\n",
    "train_labels = train_labels[0:50000]"
   ]
  },
  {
   "cell_type": "markdown",
   "metadata": {},
   "source": [
    "Creating Tensors"
   ]
  },
  {
   "cell_type": "code",
   "execution_count": 9,
   "metadata": {},
   "outputs": [],
   "source": [
    "train_images = train_images.reshape((50000, 28, 28, 1))\n",
    "train_images = train_images.astype('float32') / 255  # converting to a [0, 1] scale\n",
    "valid_images = valid_images.reshape((10000, 28, 28, 1))\n",
    "valid_images = valid_images.astype('float32') / 255  # converting to a [0, 1] scale\n",
    "test_images = test_images.reshape((10000, 28, 28, 1))\n",
    "test_images = test_images.astype('float32') / 255  # converting to a [0, 1] scale"
   ]
  },
  {
   "cell_type": "code",
   "execution_count": 10,
   "metadata": {},
   "outputs": [
    {
     "name": "stdout",
     "output_type": "stream",
     "text": [
      "A label: 9\n",
      "A one-hot encode label: [0. 0. 0. 0. 0. 0. 0. 0. 0. 1.]\n"
     ]
    }
   ],
   "source": [
    "print('A label:', train_labels[19])\n",
    "train_labels = to_categorical(train_labels)\n",
    "valid_labels = to_categorical(valid_labels)\n",
    "test_labels = to_categorical(test_labels)\n",
    "print('A one-hot encode label:', train_labels[19])"
   ]
  },
  {
   "cell_type": "markdown",
   "metadata": {},
   "source": [
    "CNN Architeture"
   ]
  },
  {
   "cell_type": "code",
   "execution_count": 11,
   "metadata": {},
   "outputs": [],
   "source": [
    "my_model = models.Sequential()\n",
    "my_model.add(layers.Conv2D(filters=16, kernel_size=(3, 3), strides=(1, 1),\n",
    "                           use_bias=True, input_shape=(28, 28, 1)))\n",
    "my_model.add(layers.Activation('relu'))\n",
    "my_model.add(layers.Conv2D(filters=16, kernel_size=(3, 3), strides=(1, 1), use_bias=True))\n",
    "my_model.add(layers.Activation('relu'))\n",
    "\n",
    "my_model.add(layers.MaxPooling2D(pool_size=(2, 2)))\n",
    "\n",
    "my_model.add(layers.Dropout(rate=0.4))\n",
    "\n",
    "my_model.add(layers.Conv2D(filters=8, kernel_size=(3, 3), strides=(1, 1), use_bias=True))\n",
    "my_model.add(layers.Activation('relu'))\n",
    "\n",
    "my_model.add(layers.MaxPooling2D(pool_size=(2, 2)))\n",
    "\n",
    "my_model.add(layers.Flatten())\n",
    "\n",
    "my_model.add(layers.Dropout(rate=0.4))\n",
    "\n",
    "my_model.add(layers.Dense(units=10, use_bias=True))\n",
    "my_model.add(layers.Activation('relu'))\n",
    "\n",
    "my_model.add(layers.Dense(units=10, use_bias=True))\n",
    "my_model.add(layers.Activation('softmax'))"
   ]
  },
  {
   "cell_type": "markdown",
   "metadata": {},
   "source": [
    "CNN Summary (Mostra os dados da rede neural configurada)"
   ]
  },
  {
   "cell_type": "code",
   "execution_count": 12,
   "metadata": {
    "scrolled": true
   },
   "outputs": [
    {
     "name": "stdout",
     "output_type": "stream",
     "text": [
      "_________________________________________________________________\n",
      "Layer (type)                 Output Shape              Param #   \n",
      "=================================================================\n",
      "conv2d_1 (Conv2D)            (None, 26, 26, 16)        160       \n",
      "_________________________________________________________________\n",
      "activation_1 (Activation)    (None, 26, 26, 16)        0         \n",
      "_________________________________________________________________\n",
      "conv2d_2 (Conv2D)            (None, 24, 24, 16)        2320      \n",
      "_________________________________________________________________\n",
      "activation_2 (Activation)    (None, 24, 24, 16)        0         \n",
      "_________________________________________________________________\n",
      "max_pooling2d_1 (MaxPooling2 (None, 12, 12, 16)        0         \n",
      "_________________________________________________________________\n",
      "dropout_1 (Dropout)          (None, 12, 12, 16)        0         \n",
      "_________________________________________________________________\n",
      "conv2d_3 (Conv2D)            (None, 10, 10, 8)         1160      \n",
      "_________________________________________________________________\n",
      "activation_3 (Activation)    (None, 10, 10, 8)         0         \n",
      "_________________________________________________________________\n",
      "max_pooling2d_2 (MaxPooling2 (None, 5, 5, 8)           0         \n",
      "_________________________________________________________________\n",
      "flatten_1 (Flatten)          (None, 200)               0         \n",
      "_________________________________________________________________\n",
      "dropout_2 (Dropout)          (None, 200)               0         \n",
      "_________________________________________________________________\n",
      "dense_1 (Dense)              (None, 10)                2010      \n",
      "_________________________________________________________________\n",
      "activation_4 (Activation)    (None, 10)                0         \n",
      "_________________________________________________________________\n",
      "dense_2 (Dense)              (None, 10)                110       \n",
      "_________________________________________________________________\n",
      "activation_5 (Activation)    (None, 10)                0         \n",
      "=================================================================\n",
      "Total params: 5,760\n",
      "Trainable params: 5,760\n",
      "Non-trainable params: 0\n",
      "_________________________________________________________________\n"
     ]
    }
   ],
   "source": [
    "my_model.summary()"
   ]
  },
  {
   "cell_type": "markdown",
   "metadata": {},
   "source": [
    "CNN Loss and Optimizer"
   ]
  },
  {
   "cell_type": "code",
   "execution_count": 13,
   "metadata": {},
   "outputs": [],
   "source": [
    "compile = my_model.compile(optimizers.sgd(lr=0.1, decay=0.01), loss='categorical_crossentropy',\n",
    "                           metrics=['accuracy'])"
   ]
  },
  {
   "cell_type": "markdown",
   "metadata": {},
   "source": [
    "CNN Training"
   ]
  },
  {
   "cell_type": "code",
   "execution_count": 14,
   "metadata": {},
   "outputs": [
    {
     "name": "stdout",
     "output_type": "stream",
     "text": [
      "Train on 50000 samples, validate on 10000 samples\n",
      "Epoch 1/20\n",
      "50000/50000 [==============================] - 30s 604us/step - loss: 2.2956 - acc: 0.1218 - val_loss: 2.2805 - val_acc: 0.2342\n",
      "Epoch 2/20\n",
      "50000/50000 [==============================] - 32s 631us/step - loss: 2.2754 - acc: 0.1523 - val_loss: 2.2467 - val_acc: 0.3372\n",
      "Epoch 3/20\n",
      "50000/50000 [==============================] - 32s 631us/step - loss: 2.2328 - acc: 0.1871 - val_loss: 2.1522 - val_acc: 0.3944\n",
      "Epoch 4/20\n",
      "50000/50000 [==============================] - 33s 659us/step - loss: 2.1221 - acc: 0.2353 - val_loss: 1.9338 - val_acc: 0.4774\n",
      "Epoch 5/20\n",
      "50000/50000 [==============================] - 34s 670us/step - loss: 1.9203 - acc: 0.3089 - val_loss: 1.6165 - val_acc: 0.5407\n",
      "Epoch 6/20\n",
      "50000/50000 [==============================] - 35s 702us/step - loss: 1.6914 - acc: 0.3898 - val_loss: 1.3552 - val_acc: 0.5994\n",
      "Epoch 7/20\n",
      "50000/50000 [==============================] - 33s 652us/step - loss: 1.5019 - acc: 0.4646 - val_loss: 1.1553 - val_acc: 0.7207\n",
      "Epoch 8/20\n",
      "50000/50000 [==============================] - 34s 682us/step - loss: 1.3645 - acc: 0.5420 - val_loss: 1.0222 - val_acc: 0.7701\n",
      "Epoch 9/20\n",
      "50000/50000 [==============================] - 33s 660us/step - loss: 1.2557 - acc: 0.5880 - val_loss: 0.9087 - val_acc: 0.7904\n",
      "Epoch 10/20\n",
      "50000/50000 [==============================] - 33s 660us/step - loss: 1.1582 - acc: 0.6229 - val_loss: 0.8237 - val_acc: 0.8070\n",
      "Epoch 11/20\n",
      "50000/50000 [==============================] - 33s 654us/step - loss: 1.0814 - acc: 0.6506 - val_loss: 0.7540 - val_acc: 0.8191\n",
      "Epoch 12/20\n",
      "50000/50000 [==============================] - 32s 649us/step - loss: 1.0276 - acc: 0.6694 - val_loss: 0.7006 - val_acc: 0.8270\n",
      "Epoch 13/20\n",
      "50000/50000 [==============================] - 33s 658us/step - loss: 0.9650 - acc: 0.6921 - val_loss: 0.6547 - val_acc: 0.8362\n",
      "Epoch 14/20\n",
      "50000/50000 [==============================] - 33s 654us/step - loss: 0.9280 - acc: 0.7034 - val_loss: 0.6218 - val_acc: 0.8423\n",
      "Epoch 15/20\n",
      "50000/50000 [==============================] - 34s 677us/step - loss: 0.8910 - acc: 0.7138 - val_loss: 0.5888 - val_acc: 0.8503\n",
      "Epoch 16/20\n",
      "50000/50000 [==============================] - 33s 666us/step - loss: 0.8533 - acc: 0.7269 - val_loss: 0.5597 - val_acc: 0.8566\n",
      "Epoch 17/20\n",
      "50000/50000 [==============================] - 33s 668us/step - loss: 0.8261 - acc: 0.7345 - val_loss: 0.5353 - val_acc: 0.8620\n",
      "Epoch 18/20\n",
      "50000/50000 [==============================] - 33s 651us/step - loss: 0.7994 - acc: 0.7453 - val_loss: 0.5149 - val_acc: 0.8671\n",
      "Epoch 19/20\n",
      "50000/50000 [==============================] - 32s 636us/step - loss: 0.7779 - acc: 0.7531 - val_loss: 0.4973 - val_acc: 0.8706\n",
      "Epoch 20/20\n",
      "50000/50000 [==============================] - 32s 631us/step - loss: 0.7542 - acc: 0.7611 - val_loss: 0.4767 - val_acc: 0.8750\n"
     ]
    }
   ],
   "source": [
    "fit = my_model.fit(x=train_images, y=train_labels, batch_size=2500, epochs=20,\n",
    "                   validation_data=(valid_images, valid_labels))"
   ]
  },
  {
   "cell_type": "markdown",
   "metadata": {},
   "source": [
    "Save Model"
   ]
  },
  {
   "cell_type": "markdown",
   "metadata": {},
   "source": [
    "##### Coloque a pasta que quer salvar sua rede neural"
   ]
  },
  {
   "cell_type": "code",
   "execution_count": 12,
   "metadata": {},
   "outputs": [],
   "source": [
    "my_model.save(filepath=r'./treino', overwrite=True)"
   ]
  },
  {
   "cell_type": "code",
   "execution_count": null,
   "metadata": {},
   "outputs": [],
   "source": []
  }
 ],
 "metadata": {
  "kernelspec": {
   "display_name": "Python 3",
   "language": "python",
   "name": "python3"
  }
 },
 "nbformat": 4,
 "nbformat_minor": 2
}
