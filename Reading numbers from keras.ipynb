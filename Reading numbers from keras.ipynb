{
 "cells": [
  {
   "cell_type": "code",
   "execution_count": 1,
   "metadata": {},
   "outputs": [
    {
     "name": "stderr",
     "output_type": "stream",
     "text": [
      "Using Theano backend.\n"
     ]
    }
   ],
   "source": [
    "import matplotlib.pyplot as plt\n",
    "from keras.datasets import mnist\n",
    "from keras.utils import to_categorical\n",
    "from keras import models, layers, optimizers\n",
    "from os import environ\n",
    "\n",
    "environ['TF_CPP_MIN_LOG_LEVEL'] = '3'"
   ]
  },
  {
   "cell_type": "code",
   "execution_count": 2,
   "metadata": {},
   "outputs": [],
   "source": [
    "(train_images, train_labels), (test_images, test_labels) = mnist.load_data()"
   ]
  },
  {
   "cell_type": "code",
   "execution_count": 3,
   "metadata": {},
   "outputs": [
    {
     "name": "stdout",
     "output_type": "stream",
     "text": [
      "Train images shape: (60000, 28, 28)\n",
      "Train labels shape: (60000,) \n",
      "\n",
      "Test images shape: (10000, 28, 28)\n",
      "Test labels shape: (10000,) \n",
      "\n"
     ]
    }
   ],
   "source": [
    "print('Train images shape:', train_images.shape)\n",
    "print('Train labels shape:', train_labels.shape, '\\n')\n",
    "print('Test images shape:', test_images.shape)\n",
    "print('Test labels shape:', test_labels.shape, '\\n')"
   ]
  },
  {
   "cell_type": "code",
   "execution_count": 4,
   "metadata": {},
   "outputs": [],
   "source": [
    "\n",
    "# for x in range(0, 1):\n",
    "  #  plt.imshow(train_images[x], cmap='Greys')\n",
    "   # plt.show()\n",
    "   # print('Train image labels:', train_labels[x], '\\n')\n"
   ]
  },
  {
   "cell_type": "markdown",
   "metadata": {},
   "source": [
    "Training, Validation and Test dataset"
   ]
  },
  {
   "cell_type": "code",
   "execution_count": 5,
   "metadata": {},
   "outputs": [],
   "source": [
    "valid_images = train_images[50000:60000]\n",
    "valid_labels = train_labels[50000:60000]\n",
    "train_images = train_images[0:50000]  # test images remain untouched\n",
    "train_labels = train_labels[0:50000]"
   ]
  },
  {
   "cell_type": "markdown",
   "metadata": {},
   "source": [
    "Creating Tensors"
   ]
  },
  {
   "cell_type": "code",
   "execution_count": 6,
   "metadata": {},
   "outputs": [],
   "source": [
    "train_images = train_images.reshape((50000, 28, 28, 1))\n",
    "train_images = train_images.astype('float32') / 255  # converting to a [0, 1] scale\n",
    "valid_images = valid_images.reshape((10000, 28, 28, 1))\n",
    "valid_images = valid_images.astype('float32') / 255  # converting to a [0, 1] scale\n",
    "test_images = test_images.reshape((10000, 28, 28, 1))\n",
    "test_images = test_images.astype('float32') / 255  # converting to a [0, 1] scale"
   ]
  },
  {
   "cell_type": "code",
   "execution_count": 7,
   "metadata": {},
   "outputs": [
    {
     "name": "stdout",
     "output_type": "stream",
     "text": [
      "A label: 9\n",
      "A one-hot encode label: [ 0.  0.  0.  0.  0.  0.  0.  0.  0.  1.]\n"
     ]
    }
   ],
   "source": [
    "print('A label:', train_labels[19])\n",
    "train_labels = to_categorical(train_labels)\n",
    "valid_labels = to_categorical(valid_labels)\n",
    "test_labels = to_categorical(test_labels)\n",
    "print('A one-hot encode label:', train_labels[19])"
   ]
  },
  {
   "cell_type": "markdown",
   "metadata": {},
   "source": [
    "CNN Architeture"
   ]
  },
  {
   "cell_type": "code",
   "execution_count": 8,
   "metadata": {},
   "outputs": [],
   "source": [
    "my_model = models.Sequential()\n",
    "my_model.add(layers.Conv2D(filters=16, kernel_size=(3, 3), strides=(1, 1),\n",
    "                           use_bias=True, input_shape=(28, 28, 1)))\n",
    "my_model.add(layers.Activation('relu'))\n",
    "my_model.add(layers.Conv2D(filters=16, kernel_size=(3, 3), strides=(1, 1), use_bias=True))\n",
    "my_model.add(layers.Activation('relu'))\n",
    "\n",
    "my_model.add(layers.MaxPooling2D(pool_size=(2, 2)))\n",
    "\n",
    "my_model.add(layers.Dropout(rate=0.4))\n",
    "\n",
    "my_model.add(layers.Conv2D(filters=8, kernel_size=(3, 3), strides=(1, 1), use_bias=True))\n",
    "my_model.add(layers.Activation('relu'))\n",
    "\n",
    "my_model.add(layers.MaxPooling2D(pool_size=(2, 2)))\n",
    "\n",
    "my_model.add(layers.Flatten())\n",
    "\n",
    "my_model.add(layers.Dropout(rate=0.4))\n",
    "\n",
    "my_model.add(layers.Dense(units=10, use_bias=True))\n",
    "my_model.add(layers.Activation('relu'))\n",
    "\n",
    "my_model.add(layers.Dense(units=10, use_bias=True))\n",
    "my_model.add(layers.Activation('softmax'))"
   ]
  },
  {
   "cell_type": "markdown",
   "metadata": {},
   "source": [
    "CNN Summary (Mostra os dados da rede neural configurada)"
   ]
  },
  {
   "cell_type": "code",
   "execution_count": 9,
   "metadata": {
    "scrolled": true
   },
   "outputs": [
    {
     "name": "stdout",
     "output_type": "stream",
     "text": [
      "_________________________________________________________________\n",
      "Layer (type)                 Output Shape              Param #   \n",
      "=================================================================\n",
      "conv2d_1 (Conv2D)            (None, 26, 26, 16)        160       \n",
      "_________________________________________________________________\n",
      "activation_1 (Activation)    (None, 26, 26, 16)        0         \n",
      "_________________________________________________________________\n",
      "conv2d_2 (Conv2D)            (None, 24, 24, 16)        2320      \n",
      "_________________________________________________________________\n",
      "activation_2 (Activation)    (None, 24, 24, 16)        0         \n",
      "_________________________________________________________________\n",
      "max_pooling2d_1 (MaxPooling2 (None, 12, 12, 16)        0         \n",
      "_________________________________________________________________\n",
      "dropout_1 (Dropout)          (None, 12, 12, 16)        0         \n",
      "_________________________________________________________________\n",
      "conv2d_3 (Conv2D)            (None, 10, 10, 8)         1160      \n",
      "_________________________________________________________________\n",
      "activation_3 (Activation)    (None, 10, 10, 8)         0         \n",
      "_________________________________________________________________\n",
      "max_pooling2d_2 (MaxPooling2 (None, 5, 5, 8)           0         \n",
      "_________________________________________________________________\n",
      "flatten_1 (Flatten)          (None, 200)               0         \n",
      "_________________________________________________________________\n",
      "dropout_2 (Dropout)          (None, 200)               0         \n",
      "_________________________________________________________________\n",
      "dense_1 (Dense)              (None, 10)                2010      \n",
      "_________________________________________________________________\n",
      "activation_4 (Activation)    (None, 10)                0         \n",
      "_________________________________________________________________\n",
      "dense_2 (Dense)              (None, 10)                110       \n",
      "_________________________________________________________________\n",
      "activation_5 (Activation)    (None, 10)                0         \n",
      "=================================================================\n",
      "Total params: 5,760\n",
      "Trainable params: 5,760\n",
      "Non-trainable params: 0\n",
      "_________________________________________________________________\n"
     ]
    }
   ],
   "source": [
    "my_model.summary()"
   ]
  },
  {
   "cell_type": "markdown",
   "metadata": {},
   "source": [
    "CNN Loss and Optimizer"
   ]
  },
  {
   "cell_type": "code",
   "execution_count": 10,
   "metadata": {},
   "outputs": [],
   "source": [
    "compile = my_model.compile(optimizers.sgd(lr=0.1, decay=0.01), loss='categorical_crossentropy',\n",
    "                           metrics=['accuracy'])"
   ]
  },
  {
   "cell_type": "markdown",
   "metadata": {},
   "source": [
    "CNN Training"
   ]
  },
  {
   "cell_type": "code",
   "execution_count": 11,
   "metadata": {},
   "outputs": [
    {
     "name": "stdout",
     "output_type": "stream",
     "text": [
      "Train on 50000 samples, validate on 10000 samples\n",
      "Epoch 1/20\n",
      "50000/50000 [==============================] - 65s 1ms/step - loss: 2.3003 - acc: 0.1026 - val_loss: 2.2933 - val_acc: 0.1799\n",
      "Epoch 2/20\n",
      "50000/50000 [==============================] - 113s 2ms/step - loss: 2.2894 - acc: 0.1332 - val_loss: 2.2777 - val_acc: 0.2473\n",
      "Epoch 3/20\n",
      "50000/50000 [==============================] - 60s 1ms/step - loss: 2.2714 - acc: 0.1519 - val_loss: 2.2438 - val_acc: 0.2834\n",
      "Epoch 4/20\n",
      "50000/50000 [==============================] - 60s 1ms/step - loss: 2.2332 - acc: 0.1758 - val_loss: 2.1715 - val_acc: 0.3158\n",
      "Epoch 5/20\n",
      "50000/50000 [==============================] - 59s 1ms/step - loss: 2.1720 - acc: 0.2064 - val_loss: 2.0703 - val_acc: 0.3705\n",
      "Epoch 6/20\n",
      "50000/50000 [==============================] - 61s 1ms/step - loss: 2.0834 - acc: 0.2481 - val_loss: 1.9329 - val_acc: 0.4408\n",
      "Epoch 7/20\n",
      "50000/50000 [==============================] - 58s 1ms/step - loss: 1.9683 - acc: 0.2977 - val_loss: 1.7554 - val_acc: 0.5160\n",
      "Epoch 8/20\n",
      "50000/50000 [==============================] - 58s 1ms/step - loss: 1.8341 - acc: 0.3517 - val_loss: 1.5692 - val_acc: 0.5871\n",
      "Epoch 9/20\n",
      "50000/50000 [==============================] - 59s 1ms/step - loss: 1.6756 - acc: 0.4169 - val_loss: 1.3515 - val_acc: 0.6519\n",
      "Epoch 10/20\n",
      "50000/50000 [==============================] - 57s 1ms/step - loss: 1.5096 - acc: 0.4918 - val_loss: 1.1606 - val_acc: 0.7247\n",
      "Epoch 11/20\n",
      "50000/50000 [==============================] - 59s 1ms/step - loss: 1.3597 - acc: 0.5508 - val_loss: 1.0101 - val_acc: 0.7582\n",
      "Epoch 12/20\n",
      "50000/50000 [==============================] - 65s 1ms/step - loss: 1.2492 - acc: 0.5911 - val_loss: 0.9095 - val_acc: 0.7770\n",
      "Epoch 13/20\n",
      "50000/50000 [==============================] - 96s 2ms/step - loss: 1.1643 - acc: 0.6197 - val_loss: 0.8444 - val_acc: 0.7912\n",
      "Epoch 14/20\n",
      "50000/50000 [==============================] - 69s 1ms/step - loss: 1.0899 - acc: 0.6446 - val_loss: 0.7789 - val_acc: 0.8020\n",
      "Epoch 15/20\n",
      "50000/50000 [==============================] - 71s 1ms/step - loss: 1.0289 - acc: 0.6626 - val_loss: 0.7299 - val_acc: 0.8100\n",
      "Epoch 16/20\n",
      "50000/50000 [==============================] - 67s 1ms/step - loss: 0.9706 - acc: 0.6834 - val_loss: 0.6880 - val_acc: 0.8156\n",
      "Epoch 17/20\n",
      "50000/50000 [==============================] - 68s 1ms/step - loss: 0.9256 - acc: 0.6939 - val_loss: 0.6526 - val_acc: 0.8206\n",
      "Epoch 18/20\n",
      "50000/50000 [==============================] - 67s 1ms/step - loss: 0.8852 - acc: 0.7077 - val_loss: 0.6244 - val_acc: 0.8273\n",
      "Epoch 19/20\n",
      "50000/50000 [==============================] - 64s 1ms/step - loss: 0.8555 - acc: 0.7139 - val_loss: 0.5997 - val_acc: 0.8313\n",
      "Epoch 20/20\n",
      "50000/50000 [==============================] - 66s 1ms/step - loss: 0.8291 - acc: 0.7253 - val_loss: 0.5795 - val_acc: 0.8362\n"
     ]
    }
   ],
   "source": [
    "fit = my_model.fit(x=train_images, y=train_labels, batch_size=2500, epochs=20,\n",
    "                   validation_data=(valid_images, valid_labels))"
   ]
  },
  {
   "cell_type": "markdown",
   "metadata": {},
   "source": [
    "Save Model"
   ]
  },
  {
   "cell_type": "code",
   "execution_count": 12,
   "metadata": {},
   "outputs": [],
   "source": [
    "my_model.save(filepath=r'/home/daniel/Documents/treino', overwrite=True)"
   ]
  },
  {
   "cell_type": "code",
   "execution_count": null,
   "metadata": {},
   "outputs": [],
   "source": []
  }
 ],
 "metadata": {
  "kernelspec": {
   "display_name": "Python 3",
   "language": "python",
   "name": "python3"
  },
  "language_info": {
   "codemirror_mode": {
    "name": "ipython",
    "version": 3
   },
   "file_extension": ".py",
   "mimetype": "text/x-python",
   "name": "python",
   "nbconvert_exporter": "python",
   "pygments_lexer": "ipython3",
   "version": "3.5.4"
  }
 },
 "nbformat": 4,
 "nbformat_minor": 2
}
