{
 "cells": [
  {
   "cell_type": "code",
   "execution_count": 1,
   "metadata": {},
   "outputs": [
    {
     "name": "stderr",
     "output_type": "stream",
     "text": [
      "Using Theano backend.\n"
     ]
    }
   ],
   "source": [
    "from os import environ\n",
    "\n",
    "from keras.models import load_model\n",
    "\n",
    "environ['TF_CPP_MIN_LOG_LEVEL'] = '3'"
   ]
  },
  {
   "cell_type": "markdown",
   "metadata": {},
   "source": [
    "Loading model"
   ]
  },
  {
   "cell_type": "code",
   "execution_count": 2,
   "metadata": {},
   "outputs": [],
   "source": [
    "my_model = load_model(filepath=r'./treino')"
   ]
  },
  {
   "cell_type": "code",
   "execution_count": 3,
   "metadata": {},
   "outputs": [
    {
     "name": "stdout",
     "output_type": "stream",
     "text": [
      "_________________________________________________________________\n",
      "Layer (type)                 Output Shape              Param #   \n",
      "=================================================================\n",
      "conv2d_1 (Conv2D)            (None, 26, 26, 16)        160       \n",
      "_________________________________________________________________\n",
      "activation_1 (Activation)    (None, 26, 26, 16)        0         \n",
      "_________________________________________________________________\n",
      "conv2d_2 (Conv2D)            (None, 24, 24, 16)        2320      \n",
      "_________________________________________________________________\n",
      "activation_2 (Activation)    (None, 24, 24, 16)        0         \n",
      "_________________________________________________________________\n",
      "max_pooling2d_1 (MaxPooling2 (None, 12, 12, 16)        0         \n",
      "_________________________________________________________________\n",
      "dropout_1 (Dropout)          (None, 12, 12, 16)        0         \n",
      "_________________________________________________________________\n",
      "conv2d_3 (Conv2D)            (None, 10, 10, 8)         1160      \n",
      "_________________________________________________________________\n",
      "activation_3 (Activation)    (None, 10, 10, 8)         0         \n",
      "_________________________________________________________________\n",
      "max_pooling2d_2 (MaxPooling2 (None, 5, 5, 8)           0         \n",
      "_________________________________________________________________\n",
      "flatten_1 (Flatten)          (None, 200)               0         \n",
      "_________________________________________________________________\n",
      "dropout_2 (Dropout)          (None, 200)               0         \n",
      "_________________________________________________________________\n",
      "dense_1 (Dense)              (None, 10)                2010      \n",
      "_________________________________________________________________\n",
      "activation_4 (Activation)    (None, 10)                0         \n",
      "_________________________________________________________________\n",
      "dense_2 (Dense)              (None, 10)                110       \n",
      "_________________________________________________________________\n",
      "activation_5 (Activation)    (None, 10)                0         \n",
      "=================================================================\n",
      "Total params: 5,760\n",
      "Trainable params: 5,760\n",
      "Non-trainable params: 0\n",
      "_________________________________________________________________\n",
      "None \n",
      "\n"
     ]
    }
   ],
   "source": [
    "print(my_model.summary(), '\\n')"
   ]
  },
  {
   "cell_type": "markdown",
   "metadata": {},
   "source": [
    "Showing parameters: Weights and Biases"
   ]
  },
  {
   "cell_type": "code",
   "execution_count": 4,
   "metadata": {},
   "outputs": [
    {
     "name": "stdout",
     "output_type": "stream",
     "text": [
      "Ultimo biases do nó:\n",
      "[ 0.01941353  0.27425531 -0.19733146 -0.04577689  0.15784149 -0.13448969\n",
      "  0.04253473 -0.14260545 -0.15282482  0.17898303]\n",
      "Ultimo peso do nó:\n",
      "[[ 0.1429835  -0.23503765  0.43475094 -0.2727575  -0.21793702 -0.06838153\n",
      "  -0.03540165  0.33331257  0.37543678 -0.31520671]\n",
      " [ 0.29908547 -0.2630477   0.55889201  0.17072164 -0.03531223 -0.29018426\n",
      "   0.28205967  0.26362726 -0.05995414 -0.37987101]\n",
      " [-0.18892187 -0.48826563 -0.45760217  0.39354846 -0.46005005  0.27765086\n",
      "   0.32770923  0.42214578  0.15966111  0.3561019 ]\n",
      " [ 0.82561028  0.15098314  0.1983746   0.19420271 -0.4669759   0.54085606\n",
      "  -0.33500698  0.10934098  0.36957255 -0.19955219]\n",
      " [ 0.1891081  -0.71927768 -0.30932739 -0.55820835  0.55467105  0.14403017\n",
      "  -0.18469524  0.32575291  0.03984491  0.32148975]\n",
      " [-0.34519824  1.08595002  0.13675241 -0.07034612  0.13357444  0.29662591\n",
      "   0.3204577   0.03026984  0.33190045  0.13603543]\n",
      " [ 0.06139607 -0.10338135  0.0713526  -0.14065373 -0.29460484  0.08056328\n",
      "   0.33292148 -0.10466266 -0.10014209 -0.16477543]\n",
      " [-0.50110424 -0.05691459 -0.16139068  0.39228076 -0.36601782 -0.09743752\n",
      "  -0.63051289  0.36172009  0.02863698  0.30718818]\n",
      " [-0.50202167 -0.24475536  0.30518529 -0.51351935 -0.50543475 -0.48008996\n",
      "  -0.50319326  0.50216347 -0.19258231 -0.38170519]\n",
      " [-0.19224492 -0.05848128  0.32302806  0.33750451  0.10789274 -0.08240309\n",
      "   0.56394839 -0.68066049  0.03800572 -0.18158582]]\n"
     ]
    }
   ],
   "source": [
    "print('Ultimo biases do nó:')\n",
    "print(my_model.get_weights()[-1])\n",
    "print('Ultimo peso do nó:')\n",
    "print(my_model.get_weights()[-2])"
   ]
  },
  {
   "cell_type": "markdown",
   "metadata": {},
   "source": [
    "# Loading MNIST dataset\n"
   ]
  },
  {
   "cell_type": "code",
   "execution_count": 5,
   "metadata": {},
   "outputs": [
    {
     "data": {
      "text/plain": [
       "<matplotlib.figure.Figure at 0x7f5932251550>"
      ]
     },
     "metadata": {},
     "output_type": "display_data"
    }
   ],
   "source": [
    "from keras.datasets import mnist\n",
    "\n",
    "from numpy import random\n",
    "\n",
    "import matplotlib.pyplot as plt\n",
    "\n",
    "(train_images, train_labels), (test_images, test_labels) = mnist.load_data()\n",
    "rand_n = random.randint(0, 10000)\n",
    "rand_i = test_images[rand_n]\n",
    "plt.imshow(rand_i, cmap='Greys')\n",
    "plt.show()\n",
    "\n"
   ]
  },
  {
   "cell_type": "markdown",
   "metadata": {},
   "source": [
    "# Prevendo uma imagem aleatória"
   ]
  },
  {
   "cell_type": "code",
   "execution_count": 6,
   "metadata": {},
   "outputs": [
    {
     "name": "stdout",
     "output_type": "stream",
     "text": [
      "The Random number Imagei Prediction is: [[ 0.  1.  0.  0.  0.  0.  0.  0.  0.  0.]]\n"
     ]
    }
   ],
   "source": [
    "pred = my_model.predict(rand_i.reshape(1, 28, 28, 1), batch_size=1)\n",
    "print('The Random number Imagei Prediction is: {}'.format(pred))"
   ]
  },
  {
   "cell_type": "markdown",
   "metadata": {},
   "source": [
    "# Evaluation test over test dataset"
   ]
  },
  {
   "cell_type": "code",
   "execution_count": 9,
   "metadata": {},
   "outputs": [
    {
     "name": "stdout",
     "output_type": "stream",
     "text": [
      "10000/10000 [==============================] - 4s 391us/step\n",
      "Evaluation Accuracy is: 80.51%\n"
     ]
    }
   ],
   "source": [
    "from keras.utils import to_categorical\n",
    "\n",
    "test_images = test_images.reshape((10000, 28, 28, 1))\n",
    "test_labels = to_categorical(test_labels)\n",
    "(eval_1, eval_acc) = my_model.evaluate(test_images, y=test_labels, batch_size=10000)\n",
    "print('Evaluation Accuracy is: {:4.2f}%'.format(eval_acc*100))"
   ]
  },
  {
   "cell_type": "code",
   "execution_count": null,
   "metadata": {},
   "outputs": [],
   "source": []
  }
 ],
 "metadata": {
  "kernelspec": {
   "display_name": "Python 3",
   "language": "python",
   "name": "python3"
  },
  "language_info": {
   "codemirror_mode": {
    "name": "ipython",
    "version": 3
   },
   "file_extension": ".py",
   "mimetype": "text/x-python",
   "name": "python",
   "nbconvert_exporter": "python",
   "pygments_lexer": "ipython3",
   "version": "3.5.4"
  }
 },
 "nbformat": 4,
 "nbformat_minor": 2
}
